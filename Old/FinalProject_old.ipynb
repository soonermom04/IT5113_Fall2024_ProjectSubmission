{
  "nbformat": 4,
  "nbformat_minor": 0,
  "metadata": {
    "colab": {
      "provenance": []
    },
    "kernelspec": {
      "name": "python3",
      "display_name": "Python 3"
    },
    "language_info": {
      "name": "python"
    }
  },
  "cells": [
    {
      "cell_type": "code",
      "execution_count": null,
      "metadata": {
        "id": "kc__-LnhxQOA"
      },
      "outputs": [],
      "source": [
        "#IT 5113 W71 2024 Fall Computer Programming for Data Scientists | Project |Leni Burrow\n",
        "#This code will create a train_model and predict_sentiment functions\n",
        "#This code will be tested with the test.csv data file\n"
      ]
    },
    {
      "cell_type": "code",
      "source": [
        "import kagglehub\n",
        "\n",
        "# Download latest version\n",
        "path = kagglehub.dataset_download(\"kritanjalijain/amazon-reviews\")\n",
        "\n",
        "print(\"Path to dataset files:\", path)"
      ],
      "metadata": {
        "colab": {
          "base_uri": "https://localhost:8080/"
        },
        "id": "KLRDjJjL9Lk3",
        "outputId": "915f77da-e27f-4c22-9b83-cdc076464502"
      },
      "execution_count": 38,
      "outputs": [
        {
          "output_type": "stream",
          "name": "stdout",
          "text": [
            "Path to dataset files: /root/.cache/kagglehub/datasets/kritanjalijain/amazon-reviews/versions/2\n"
          ]
        }
      ]
    },
    {
      "cell_type": "code",
      "source": [
        "train_file = path + \"/train.csv\"\n",
        "test_file = path + \"/test.csv\""
      ],
      "metadata": {
        "id": "YdfxUSiu9kXx"
      },
      "execution_count": 39,
      "outputs": []
    },
    {
      "cell_type": "code",
      "source": [
        "\n",
        "from re import sub\n",
        "#import libraries\n",
        "import pandas as pd\n",
        "import numpy as np\n",
        "# import matplotlib.pyplot as plt\n",
        "from sklearn.linear_model import LogisticRegression\n",
        "\n",
        "#read data files and insert column headings\n",
        "df1=pd.read_csv(train_file, header=None, names=['polarity','title', 'review'])\n",
        "df2=pd.read_csv(test_file, header=None, names=['polarity','title', 'review'])\n"
      ],
      "metadata": {
        "id": "QTCq4U4eg2mr"
      },
      "execution_count": 40,
      "outputs": []
    },
    {
      "cell_type": "code",
      "source": [
        "#Reduce dataset to 10K samples each for debugging\n",
        "df1=df1.sample(n=30000,random_state=42).reset_index(drop=True) #Randomly sample 10K rows from train.csv file\n",
        "df2=df2.sample(n=30000,random_state=42).reset_index(drop=True) #Randomly sample 10K rows from test.csv file"
      ],
      "metadata": {
        "id": "JXvUagiVAF4_"
      },
      "execution_count": 41,
      "outputs": []
    },
    {
      "cell_type": "code",
      "source": [
        "#Import necessary libraries for text preprocessing\n",
        "import nltk #Natural Language Toolkit (NLTK) for text preprocessing\n",
        "import string #To handle text-related operations, ex: punctuation\n",
        "from nltk.corpus import stopwords #Provides a list of common stopwords\n",
        "from nltk.tokenize import word_tokenize #Tokenizer to split into individual words\n",
        "from nltk.stem import WordNetLemmatizer #For reducing words to their root form\n",
        "\n",
        "#Download necessary resources from NLTK\n",
        "nltk.download('punkt_tab') #Tokenization models\n",
        "nltk.download('stopwords') #Predefined list of stopwords in multiple languages\n",
        "nltk.download('wordnet') #Database required for lemmatizer\n",
        "\n",
        "#Intialize Lemmatizer (to reduce words to base form) and stopwords (to filter out common words)\n",
        "lemmatizer=WordNetLemmatizer()\n",
        "stop_words=set(stopwords.words('english')) #Load English stopwords as efficient lookups\n",
        "\n",
        "def pre_process_text(text):\n",
        "  \"\"\"\n",
        "  Preprocesses the input text by applying multiple steps to clean and standardize it\n",
        "\n",
        "  Steps:\n",
        "  1. Convert text to lowercase\n",
        "  2. Remove punctuation and digits to keep only meaningful words\n",
        "  3. Tokenize the text into indivual words\n",
        "  4. Remove stopwords (common words like 'the', 'is', 'and') and lemmatize the words\n",
        "  5. Rejoin the cleaned words back into a single string\n",
        "  \"\"\"\n",
        "\n",
        "  #1. Convert text to lowercase\n",
        "  text=text.lower()\n",
        "\n",
        "  #2. Remove punctuation and digits to keep only meaningful words\n",
        "  text=sub('[^a-zA-Z]', ' ', text)\n",
        "\n",
        "  #3. Tokenize the text into individual words\n",
        "  tokens=word_tokenize(text)\n",
        "\n",
        "  #4. Remove stopwords (common words like 'the', 'is', 'and') and lemmatize the words\n",
        "  cleaned_tokens=[lemmatizer.lemmatize(word) for word in tokens if word not in stop_words]\n",
        "\n",
        "  #5. Rejoin the cleaned words back into a single string\n",
        "  cleaned_text=' '.join(cleaned_tokens)\n",
        "\n",
        "  return cleaned_text\n",
        "\n",
        "\n",
        "\n",
        "\n"
      ],
      "metadata": {
        "colab": {
          "base_uri": "https://localhost:8080/"
        },
        "id": "tzwbKvTABLfz",
        "outputId": "1585a0d0-2df2-4d5f-dbab-c5ff7e3792b6"
      },
      "execution_count": 42,
      "outputs": [
        {
          "output_type": "stream",
          "name": "stderr",
          "text": [
            "[nltk_data] Downloading package punkt_tab to /root/nltk_data...\n",
            "[nltk_data]   Package punkt_tab is already up-to-date!\n",
            "[nltk_data] Downloading package stopwords to /root/nltk_data...\n",
            "[nltk_data]   Package stopwords is already up-to-date!\n",
            "[nltk_data] Downloading package wordnet to /root/nltk_data...\n",
            "[nltk_data]   Package wordnet is already up-to-date!\n"
          ]
        }
      ]
    },
    {
      "cell_type": "code",
      "source": [
        "#Apply preprocessing function to the 'review' column in the train and test datasets\n",
        "df1['processed_review']=df1['review'].apply(pre_process_text) #preprocessing training data\n",
        "df2['processed_review']=df2['review'].apply(pre_process_text) #preprocessing review data"
      ],
      "metadata": {
        "id": "VjFVACPoGnxJ"
      },
      "execution_count": 43,
      "outputs": []
    },
    {
      "cell_type": "code",
      "source": [
        "'''\n",
        "Display preview of processed data for train and test sets\n",
        "'''\n",
        "#Show the 1st 5 rows of the processed train data including polarity\n",
        "print(\"Processed Train Data:\")\n",
        "print(df1[['processed_review', 'polarity']].head())\n",
        "\n"
      ],
      "metadata": {
        "id": "7CKybb_bCAea",
        "colab": {
          "base_uri": "https://localhost:8080/"
        },
        "outputId": "2e82d83e-91af-404f-ca00-71cc25fb448a"
      },
      "execution_count": 44,
      "outputs": [
        {
          "output_type": "stream",
          "name": "stdout",
          "text": [
            "Processed Train Data:\n",
            "                                    processed_review  polarity\n",
            "0  product consists piece thin flexible insulatin...         1\n",
            "1  even lowest setting toast dark liking also lig...         1\n",
            "2  enjoyed disc video stunning agree others story...         2\n",
            "3  author pretend parent neither die divorce insi...         1\n",
            "4  might well use knife product hold next nothing...         1\n"
          ]
        }
      ]
    },
    {
      "cell_type": "code",
      "source": [
        "##Show the 1st 5 rows of the processed test data including polarity\n",
        "print(\"Processed Test Data:\")\n",
        "print(df2[['processed_review', 'polarity']].head())\n"
      ],
      "metadata": {
        "colab": {
          "base_uri": "https://localhost:8080/"
        },
        "id": "HUc9TPg0l8_q",
        "outputId": "95590e84-c98f-41c4-ae2b-2dd585dd7962"
      },
      "execution_count": 45,
      "outputs": [
        {
          "output_type": "stream",
          "name": "stdout",
          "text": [
            "Processed Test Data:\n",
            "                                    processed_review  polarity\n",
            "0  must preface saying religious loved book reall...         2\n",
            "1  big time long term trevanian fan extremely dis...         1\n",
            "2  album hot want however cash money best album e...         2\n",
            "3  read book elementary school probably fourth gr...         2\n",
            "4  although book touted several anusara web site ...         1\n"
          ]
        }
      ]
    },
    {
      "cell_type": "code",
      "source": [
        "from sklearn.feature_extraction.text import TfidfVectorizer\n",
        "\n",
        "#Initialize TF-IDF Vectorizer\n",
        "tfidf_vectorizer=TfidfVectorizer(max_features=5000) #Limit to top 5000 features\n",
        "\n",
        "#Fit and transform the train data\n",
        "X_train_tfidf=tfidf_vectorizer.fit_transform(df1['processed_review'])\n",
        "\n",
        "#Transform the test data\n",
        "X_test_tfidf=tfidf_vectorizer.transform(df2['processed_review'])\n",
        "\n",
        "#Display shape of both matrices\n",
        "print(\"Shape of X_train_tfidf:\", X_train_tfidf.shape)\n",
        "print(\"Shape of X_test_tfidf:\", X_test_tfidf.shape)\n",
        "\n"
      ],
      "metadata": {
        "colab": {
          "base_uri": "https://localhost:8080/"
        },
        "id": "fzKRVMR-nBxj",
        "outputId": "05e236a1-5fc5-40a8-c172-8235f7ea5d11"
      },
      "execution_count": 46,
      "outputs": [
        {
          "output_type": "stream",
          "name": "stdout",
          "text": [
            "Shape of X_train_tfidf: (30000, 5000)\n",
            "Shape of X_test_tfidf: (30000, 5000)\n"
          ]
        }
      ]
    },
    {
      "cell_type": "code",
      "source": [
        "from sklearn.linear_model import LogisticRegression\n",
        "from sklearn.metrics import accuracy_score, classification_report\n",
        "\n",
        "#Define target variable (polarity)\n",
        "y_train=df1['polarity']\n",
        "y_test=df2['polarity']\n",
        "\n",
        "#Initialize Logistic Regression classifier\n",
        "clf=LogisticRegression()\n",
        "\n",
        "#Train the model\n",
        "clf.fit(X_train_tfidf, y_train)\n",
        "\n",
        "#Make predictions on the test set\n",
        "y_pred=clf.predict(X_test_tfidf)\n",
        "\n",
        "#Evaluate the model\n",
        "accuracy=accuracy_score(y_test, y_pred)\n",
        "classification_rep=classification_report(y_test, y_pred)\n",
        "\n",
        "#Display results\n",
        "print(\"Accuracy on Test Data:\", accuracy)\n",
        "print(\"Classification Report:\\n\", classification_rep)\n",
        "clf.vectorizer=tfidf_vectorizer"
      ],
      "metadata": {
        "colab": {
          "base_uri": "https://localhost:8080/"
        },
        "id": "liSR1vVapFFy",
        "outputId": "e0ffcb9d-e72a-4aab-b0e7-e35dba7cbd4c"
      },
      "execution_count": 47,
      "outputs": [
        {
          "output_type": "stream",
          "name": "stdout",
          "text": [
            "Accuracy on Test Data: 0.8460666666666666\n",
            "Classification Report:\n",
            "               precision    recall  f1-score   support\n",
            "\n",
            "           1       0.84      0.85      0.85     14981\n",
            "           2       0.85      0.84      0.85     15019\n",
            "\n",
            "    accuracy                           0.85     30000\n",
            "   macro avg       0.85      0.85      0.85     30000\n",
            "weighted avg       0.85      0.85      0.85     30000\n",
            "\n"
          ]
        }
      ]
    },
    {
      "cell_type": "code",
      "source": [
        "import matplotlib.pyplot as plt\n",
        "import numpy as np\n",
        "\n",
        "# Assuming your target variable (polarity) is binary: 1 for positive, 0 for negative\n",
        "# Count the positive and negative predictions\n",
        "positive_predictions = np.sum(y_pred == 2)\n",
        "negative_predictions = np.sum(y_pred == 1)\n",
        "\n",
        "# Create a bar chart\n",
        "labels = ['Positive Predictions', 'Negative Predictions']\n",
        "values = [positive_predictions, negative_predictions]\n",
        "\n",
        "plt.figure(figsize=(6, 4))\n",
        "plt.bar(labels, values, color=['green', 'red'])\n",
        "plt.xlabel('Prediction Class')\n",
        "plt.ylabel('Number of Predictions')\n",
        "plt.title('Positive vs Negative Predictions')\n",
        "plt.show()\n"
      ],
      "metadata": {
        "colab": {
          "base_uri": "https://localhost:8080/",
          "height": 410
        },
        "id": "AgIyogEXWAzj",
        "outputId": "72c0543d-7743-444c-951a-57579409b861"
      },
      "execution_count": 48,
      "outputs": [
        {
          "output_type": "display_data",
          "data": {
            "text/plain": [
              "<Figure size 600x400 with 1 Axes>"
            ],
            "image/png": "[encoded data removed]"
          },
          "metadata": {}
        }
      ]
    },
    {
      "cell_type": "code",
      "source": [
        "from sklearn.metrics import confusion_matrix\n",
        "import seaborn as sns\n",
        "\n",
        "# Compute confusion matrix\n",
        "cm = confusion_matrix(y_test, y_pred)\n",
        "\n",
        "# Create a heatmap\n",
        "plt.figure(figsize=(6, 4))\n",
        "sns.heatmap(cm, annot=True, fmt='d', cmap='Blues', xticklabels=['Negative', 'Positive'], yticklabels=['Negative', 'Positive'])\n",
        "plt.xlabel('Predicted')\n",
        "plt.ylabel('True')\n",
        "plt.title('Confusion Matrix')\n",
        "plt.show()"
      ],
      "metadata": {
        "colab": {
          "base_uri": "https://localhost:8080/",
          "height": 410
        },
        "id": "Ke0Z9VRAXQM8",
        "outputId": "450ec139-9e71-4e37-f1d3-8cb7eb927425"
      },
      "execution_count": 50,
      "outputs": [
        {
          "output_type": "display_data",
          "data": {
            "text/plain": [
              "<Figure size 600x400 with 2 Axes>"
            ],
            "image/png": "[encoded data removed]"
          },
          "metadata": {}
        }
      ]
    },
    {
      "cell_type": "code",
      "source": [
        "#Function to preprocess input text and predict sentiment\n",
        "def predict_sentiment(input_text):\n",
        "  \"\"\"\n",
        "  Preprocesses the input text, transform it using the trained TfldVectorizer, and uses the trained Logistic Regression model to predict its sentiment\n",
        "  \"\"\"\n",
        "\n",
        "    #Preprocess the input text\n",
        "  processed_review=pre_process_text(input_text)\n",
        "\n",
        "    #Transform the processed text into a TF-IDF feature vector\n",
        "  input_tfidf=clf.vectorizer.transform([processed_review])\n",
        "\n",
        "    #Predict sentiment using the training model\n",
        "  sentiment=clf.predict(input_tfidf)[0]\n",
        "\n",
        "  return sentiment\n",
        "\n",
        "  #Allow user to input their text and predict sentiment\n",
        "while True:\n",
        "    #User Prompt\n",
        "    user_input=input(\"Enter a review to analyze the sentiment (or type 'exit' to quit):\")\n",
        "\n",
        "    #Exit loop if user types 'exit'\n",
        "    if user_input.lower()=='exit':\n",
        "      print(\"Exiting the sentiment analysis. Goodbye!\")\n",
        "      break\n",
        "\n",
        "    #Predict sentiment\n",
        "    sentiment=predict_sentiment(user_input)\n",
        "\n",
        "    #Display sentiment result\n",
        "    print(f\"Predicted Sentiment:, {'Positive' if sentiment==2 else 'Negative'}\")"
      ],
      "metadata": {
        "colab": {
          "base_uri": "https://localhost:8080/"
        },
        "id": "PbDzQqrupPU6",
        "outputId": "2749f82f-4573-431b-8dcb-796dbe2d44c8"
      },
      "execution_count": 49,
      "outputs": [
        {
          "output_type": "stream",
          "name": "stdout",
          "text": [
            "Enter a review to analyze the sentiment (or type 'exit' to quit):exit\n",
            "Exiting the sentiment analysis. Goodbye!\n"
          ]
        }
      ]
    }
  ]
}