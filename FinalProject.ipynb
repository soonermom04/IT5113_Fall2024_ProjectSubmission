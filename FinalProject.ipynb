{
  "cells": [
    {
      "cell_type": "code",
      "execution_count": null,
      "metadata": {
        "id": "kc__-LnhxQOA"
      },
      "outputs": [],
      "source": [
        "#IT 5113 W71 2024 Fall Computer Programming for Data Scientists | Project |Leni Burrow\n",
        "#This code will create a train_model and predict_sentiment functions\n",
        "#This code will be tested with the test.csv data file\n"
      ]
    },
    {
      "cell_type": "code",
      "execution_count": 1,
      "metadata": {
        "colab": {
          "base_uri": "https://localhost:8080/"
        },
        "id": "KLRDjJjL9Lk3",
        "outputId": "4b4673df-2fb2-4006-d2a9-a3af099817de"
      },
      "outputs": [
        {
          "output_type": "stream",
          "name": "stdout",
          "text": [
            "Downloading from https://www.kaggle.com/api/v1/datasets/download/kritanjalijain/amazon-reviews?dataset_version_number=2...\n"
          ]
        },
        {
          "output_type": "stream",
          "name": "stderr",
          "text": [
            "100%|██████████| 1.29G/1.29G [00:26<00:00, 51.9MB/s]"
          ]
        },
        {
          "output_type": "stream",
          "name": "stdout",
          "text": [
            "Extracting files...\n"
          ]
        },
        {
          "output_type": "stream",
          "name": "stderr",
          "text": [
            "\n"
          ]
        },
        {
          "output_type": "stream",
          "name": "stdout",
          "text": [
            "Path to dataset files: /root/.cache/kagglehub/datasets/kritanjalijain/amazon-reviews/versions/2\n"
          ]
        }
      ],
      "source": [
        "import kagglehub\n",
        "\n",
        "# Download latest version\n",
        "path = kagglehub.dataset_download(\"kritanjalijain/amazon-reviews\")\n",
        "\n",
        "print(\"Path to dataset files:\", path)"
      ]
    },
    {
      "cell_type": "code",
      "execution_count": 4,
      "metadata": {
        "id": "YdfxUSiu9kXx"
      },
      "outputs": [],
      "source": [
        "train_file = path + \"/train.csv\"\n",
        "test_file = path + \"/test.csv\""
      ]
    },
    {
      "cell_type": "code",
      "execution_count": 5,
      "metadata": {
        "id": "QTCq4U4eg2mr"
      },
      "outputs": [],
      "source": [
        "\n",
        "from re import sub\n",
        "#import libraries\n",
        "import pandas as pd\n",
        "import numpy as np\n",
        "# import matplotlib.pyplot as plt\n",
        "from sklearn.linear_model import LogisticRegression\n",
        "\n",
        "#read data files and insert column headings\n",
        "df1=pd.read_csv(train_file, header=None, names=['polarity','title', 'review'])\n",
        "df2=pd.read_csv(test_file, header=None, names=['polarity','title', 'review'])\n"
      ]
    },
    {
      "cell_type": "code",
      "execution_count": 6,
      "metadata": {
        "id": "JXvUagiVAF4_"
      },
      "outputs": [],
      "source": [
        "#Reduce dataset to 10K samples each for debugging\n",
        "#df1=df1.sample(n=30000,random_state=42).reset_index(drop=True) #Randomly sample 10K rows from train.csv file\n",
        "#df2=df2.sample(n=30000,random_state=42).reset_index(drop=True) #Randomly sample 10K rows from test.csv file"
      ]
    },
    {
      "cell_type": "code",
      "execution_count": 7,
      "metadata": {
        "colab": {
          "base_uri": "https://localhost:8080/"
        },
        "id": "tzwbKvTABLfz",
        "outputId": "c1cdaa68-d3d7-4368-ed12-b5af6bd07f37"
      },
      "outputs": [
        {
          "output_type": "stream",
          "name": "stderr",
          "text": [
            "[nltk_data] Downloading package punkt_tab to /root/nltk_data...\n",
            "[nltk_data]   Unzipping tokenizers/punkt_tab.zip.\n",
            "[nltk_data] Downloading package stopwords to /root/nltk_data...\n",
            "[nltk_data]   Unzipping corpora/stopwords.zip.\n",
            "[nltk_data] Downloading package wordnet to /root/nltk_data...\n"
          ]
        }
      ],
      "source": [
        "#Import necessary libraries for text preprocessing\n",
        "import nltk #Natural Language Toolkit (NLTK) for text preprocessing\n",
        "import string #To handle text-related operations, ex: punctuation\n",
        "from nltk.corpus import stopwords #Provides a list of common stopwords\n",
        "from nltk.tokenize import word_tokenize #Tokenizer to split into individual words\n",
        "from nltk.stem import WordNetLemmatizer #For reducing words to their root form\n",
        "\n",
        "#Download necessary resources from NLTK\n",
        "nltk.download('punkt_tab') #Tokenization models\n",
        "nltk.download('stopwords') #Predefined list of stopwords in multiple languages\n",
        "nltk.download('wordnet') #Database required for lemmatizer\n",
        "\n",
        "#Intialize Lemmatizer (to reduce words to base form) and stopwords (to filter out common words)\n",
        "lemmatizer=WordNetLemmatizer()\n",
        "stop_words=set(stopwords.words('english')) #Load English stopwords as efficient lookups\n",
        "\n",
        "def pre_process_text(text):\n",
        "  \"\"\"\n",
        "  Preprocesses the input text by applying multiple steps to clean and standardize it\n",
        "\n",
        "  Steps:\n",
        "  1. Convert text to lowercase\n",
        "  2. Remove punctuation and digits to keep only meaningful words\n",
        "  3. Tokenize the text into indivual words\n",
        "  4. Remove stopwords (common words like 'the', 'is', 'and') and lemmatize the words\n",
        "  5. Rejoin the cleaned words back into a single string\n",
        "  \"\"\"\n",
        "\n",
        "  #1. Convert text to lowercase\n",
        "  text=text.lower()\n",
        "\n",
        "  #2. Remove punctuation and digits to keep only meaningful words\n",
        "  text=sub('[^a-zA-Z]', ' ', text)\n",
        "\n",
        "  #3. Tokenize the text into individual words\n",
        "  tokens=word_tokenize(text)\n",
        "\n",
        "  #4. Remove stopwords (common words like 'the', 'is', 'and') and lemmatize the words\n",
        "  cleaned_tokens=[lemmatizer.lemmatize(word) for word in tokens if word not in stop_words]\n",
        "\n",
        "  #5. Rejoin the cleaned words back into a single string\n",
        "  cleaned_text=' '.join(cleaned_tokens)\n",
        "\n",
        "  return cleaned_text\n",
        "\n",
        "\n",
        "\n",
        "\n"
      ]
    },
    {
      "cell_type": "code",
      "execution_count": 8,
      "metadata": {
        "id": "VjFVACPoGnxJ"
      },
      "outputs": [],
      "source": [
        "#Apply preprocessing function to the 'review' column in the train and test datasets\n",
        "df1['processed_review']=df1['review'].apply(pre_process_text) #preprocessing training data\n",
        "df2['processed_review']=df2['review'].apply(pre_process_text) #preprocessing review data"
      ]
    },
    {
      "cell_type": "code",
      "execution_count": 9,
      "metadata": {
        "colab": {
          "base_uri": "https://localhost:8080/"
        },
        "id": "7CKybb_bCAea",
        "outputId": "3aead09c-2ff4-4f5d-fa12-192d887ebf4d"
      },
      "outputs": [
        {
          "output_type": "stream",
          "name": "stdout",
          "text": [
            "Processed Train Data:\n",
            "                                    processed_review  polarity\n",
            "0  sound track beautiful paint senery mind well w...         2\n",
            "1  reading lot review saying best game soundtrack...         2\n",
            "2  soundtrack favorite music time hand intense sa...         2\n",
            "3  truly like soundtrack enjoy video game music p...         2\n",
            "4  played game know divine music every single son...         2\n"
          ]
        }
      ],
      "source": [
        "'''\n",
        "Display preview of processed data for train and test sets\n",
        "'''\n",
        "#Show the 1st 5 rows of the processed train data including polarity\n",
        "print(\"Processed Train Data:\")\n",
        "print(df1[['processed_review', 'polarity']].head())\n",
        "\n"
      ]
    },
    {
      "cell_type": "code",
      "execution_count": 10,
      "metadata": {
        "colab": {
          "base_uri": "https://localhost:8080/"
        },
        "id": "HUc9TPg0l8_q",
        "outputId": "f61e0af6-b972-4105-9402-b783fdbaf54d"
      },
      "outputs": [
        {
          "output_type": "stream",
          "name": "stdout",
          "text": [
            "Processed Test Data:\n",
            "                                    processed_review  polarity\n",
            "0  lovely pat one great voice generation listened...         2\n",
            "1  despite fact played small portion game music h...         2\n",
            "2  bought charger jul worked ok design nice conve...         1\n",
            "3  check maha energy website powerex mh c f charg...         2\n",
            "4  reviewed quite bit combo player hesitant due u...         2\n"
          ]
        }
      ],
      "source": [
        "##Show the 1st 5 rows of the processed test data including polarity\n",
        "print(\"Processed Test Data:\")\n",
        "print(df2[['processed_review', 'polarity']].head())\n"
      ]
    },
    {
      "cell_type": "code",
      "execution_count": 11,
      "metadata": {
        "colab": {
          "base_uri": "https://localhost:8080/"
        },
        "id": "fzKRVMR-nBxj",
        "outputId": "d97096bb-6e4f-4821-da2d-246d65526e34"
      },
      "outputs": [
        {
          "output_type": "stream",
          "name": "stdout",
          "text": [
            "Shape of X_train_tfidf: (3600000, 5000)\n",
            "Shape of X_test_tfidf: (400000, 5000)\n"
          ]
        }
      ],
      "source": [
        "from sklearn.feature_extraction.text import TfidfVectorizer\n",
        "\n",
        "#Initialize TF-IDF Vectorizer\n",
        "tfidf_vectorizer=TfidfVectorizer(max_features=5000) #Limit to top 5000 features\n",
        "\n",
        "#Fit and transform the train data\n",
        "X_train_tfidf=tfidf_vectorizer.fit_transform(df1['processed_review'])\n",
        "\n",
        "#Transform the test data\n",
        "X_test_tfidf=tfidf_vectorizer.transform(df2['processed_review'])\n",
        "\n",
        "#Display shape of both matrices\n",
        "print(\"Shape of X_train_tfidf:\", X_train_tfidf.shape)\n",
        "print(\"Shape of X_test_tfidf:\", X_test_tfidf.shape)\n",
        "\n"
      ]
    },
    {
      "cell_type": "code",
      "execution_count": 12,
      "metadata": {
        "colab": {
          "base_uri": "https://localhost:8080/"
        },
        "id": "liSR1vVapFFy",
        "outputId": "4503ac91-54dd-4df6-816a-0f8fbf61d088"
      },
      "outputs": [
        {
          "output_type": "stream",
          "name": "stdout",
          "text": [
            "Accuracy on Test Data: 0.8647\n",
            "Classification Report:\n",
            "               precision    recall  f1-score   support\n",
            "\n",
            "           1       0.87      0.86      0.86    200000\n",
            "           2       0.86      0.87      0.87    200000\n",
            "\n",
            "    accuracy                           0.86    400000\n",
            "   macro avg       0.86      0.86      0.86    400000\n",
            "weighted avg       0.86      0.86      0.86    400000\n",
            "\n"
          ]
        }
      ],
      "source": [
        "from sklearn.linear_model import LogisticRegression\n",
        "from sklearn.metrics import accuracy_score, classification_report\n",
        "\n",
        "#Define target variable (polarity)\n",
        "y_train=df1['polarity']\n",
        "y_test=df2['polarity']\n",
        "\n",
        "#Initialize Logistic Regression classifier\n",
        "clf=LogisticRegression()\n",
        "\n",
        "#Train the model\n",
        "clf.fit(X_train_tfidf, y_train)\n",
        "\n",
        "#Make predictions on the test set\n",
        "y_pred=clf.predict(X_test_tfidf)\n",
        "\n",
        "#Evaluate the model\n",
        "accuracy=accuracy_score(y_test, y_pred)\n",
        "classification_rep=classification_report(y_test, y_pred)\n",
        "\n",
        "#Display results\n",
        "print(\"Accuracy on Test Data:\", accuracy)\n",
        "print(\"Classification Report:\\n\", classification_rep)\n",
        "clf.vectorizer=tfidf_vectorizer"
      ]
    },
    {
      "cell_type": "code",
      "execution_count": 13,
      "metadata": {
        "colab": {
          "base_uri": "https://localhost:8080/",
          "height": 410
        },
        "id": "AgIyogEXWAzj",
        "outputId": "b8346d59-459e-485f-8a0a-dfb84dbe67a5"
      },
      "outputs": [
        {
          "output_type": "display_data",
          "data": {
            "text/plain": [
              "<Figure size 600x400 with 1 Axes>"
            ],
            "image/png": "[encoded data removed]"
          },
          "metadata": {}
        }
      ],
      "source": [
        "import matplotlib.pyplot as plt\n",
        "import numpy as np\n",
        "\n",
        "# Assuming your target variable (polarity) is binary: 1 for positive, 0 for negative\n",
        "# Count the positive and negative predictions\n",
        "positive_predictions = np.sum(y_pred == 2)\n",
        "negative_predictions = np.sum(y_pred == 1)\n",
        "\n",
        "# Create a bar chart\n",
        "labels = ['Positive Predictions', 'Negative Predictions']\n",
        "values = [positive_predictions, negative_predictions]\n",
        "\n",
        "plt.figure(figsize=(6, 4))\n",
        "plt.bar(labels, values, color=['green', 'red'])\n",
        "plt.xlabel('Prediction Class')\n",
        "plt.ylabel('Number of Predictions')\n",
        "plt.title('Positive vs Negative Predictions')\n",
        "plt.show()\n"
      ]
    },
    {
      "cell_type": "code",
      "execution_count": 14,
      "metadata": {
        "colab": {
          "base_uri": "https://localhost:8080/",
          "height": 410
        },
        "id": "Ke0Z9VRAXQM8",
        "outputId": "cfb557ae-7abe-4c9f-e836-280142ba2819"
      },
      "outputs": [
        {
          "output_type": "display_data",
          "data": {
            "text/plain": [
              "<Figure size 600x400 with 2 Axes>"
            ],
            "image/png": "[encoded data removed]"
          },
          "metadata": {}
        }
      ],
      "source": [
        "from sklearn.metrics import confusion_matrix\n",
        "import seaborn as sns\n",
        "\n",
        "# Compute confusion matrix\n",
        "cm = confusion_matrix(y_test, y_pred)\n",
        "\n",
        "# Create a heatmap\n",
        "plt.figure(figsize=(6, 4))\n",
        "sns.heatmap(cm, annot=True, fmt='d', cmap='Blues', xticklabels=['Negative', 'Positive'], yticklabels=['Negative', 'Positive'])\n",
        "plt.xlabel('Predicted')\n",
        "plt.ylabel('True')\n",
        "plt.title('Confusion Matrix')\n",
        "plt.show()"
      ]
    },
    {
      "cell_type": "code",
      "execution_count": 15,
      "metadata": {
        "colab": {
          "base_uri": "https://localhost:8080/"
        },
        "id": "PbDzQqrupPU6",
        "outputId": "e6c4b981-9282-48a4-e32f-b4e1fa03210f"
      },
      "outputs": [
        {
          "output_type": "stream",
          "name": "stdout",
          "text": [
            "Enter a review to analyze the sentiment (or type 'exit' to quit):This is awful\n",
            "Predicted Sentiment:, Negative\n",
            "Enter a review to analyze the sentiment (or type 'exit' to quit):Just ok\n",
            "Predicted Sentiment:, Negative\n",
            "Enter a review to analyze the sentiment (or type 'exit' to quit):Amazing\n",
            "Predicted Sentiment:, Positive\n",
            "Enter a review to analyze the sentiment (or type 'exit' to quit):Could be better\n",
            "Predicted Sentiment:, Negative\n",
            "Enter a review to analyze the sentiment (or type 'exit' to quit):Best it could be\n",
            "Predicted Sentiment:, Positive\n",
            "Enter a review to analyze the sentiment (or type 'exit' to quit):Exit\n",
            "Exiting the sentiment analysis. Goodbye!\n"
          ]
        }
      ],
      "source": [
        "#Function to preprocess input text and predict sentiment\n",
        "def predict_sentiment(input_text):\n",
        "  \"\"\"\n",
        "  Preprocesses the input text, transform it using the trained TfldVectorizer, and uses the trained Logistic Regression model to predict its sentiment\n",
        "  \"\"\"\n",
        "\n",
        "    #Preprocess the input text\n",
        "  processed_review=pre_process_text(input_text)\n",
        "\n",
        "    #Transform the processed text into a TF-IDF feature vector\n",
        "  input_tfidf=clf.vectorizer.transform([processed_review])\n",
        "\n",
        "    #Predict sentiment using the training model\n",
        "  sentiment=clf.predict(input_tfidf)[0]\n",
        "\n",
        "  return sentiment\n",
        "\n",
        "  #Allow user to input their text and predict sentiment\n",
        "while True:\n",
        "    #User Prompt\n",
        "    user_input=input(\"Enter a review to analyze the sentiment (or type 'exit' to quit):\")\n",
        "\n",
        "    #Exit loop if user types 'exit'\n",
        "    if user_input.lower()=='exit':\n",
        "      print(\"Exiting the sentiment analysis. Goodbye!\")\n",
        "      break\n",
        "\n",
        "    #Predict sentiment\n",
        "    sentiment=predict_sentiment(user_input)\n",
        "\n",
        "    #Display sentiment result\n",
        "    print(f\"Predicted Sentiment:, {'Positive' if sentiment==2 else 'Negative'}\")"
      ]
    }
  ],
  "metadata": {
    "colab": {
      "provenance": []
    },
    "kernelspec": {
      "display_name": "Python 3",
      "name": "python3"
    },
    "language_info": {
      "name": "python"
    }
  },
  "nbformat": 4,
  "nbformat_minor": 0
}